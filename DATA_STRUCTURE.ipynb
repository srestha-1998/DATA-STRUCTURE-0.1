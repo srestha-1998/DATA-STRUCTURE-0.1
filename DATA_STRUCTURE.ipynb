{
  "nbformat": 4,
  "nbformat_minor": 0,
  "metadata": {
    "colab": {
      "provenance": []
    },
    "kernelspec": {
      "name": "python3",
      "display_name": "Python 3"
    },
    "language_info": {
      "name": "python"
    }
  },
  "cells": [
    {
      "cell_type": "markdown",
      "source": [],
      "metadata": {
        "id": "x-59a3NI2drD"
      }
    },
    {
      "cell_type": "markdown",
      "source": [
        "DATA STRUCTURE (THEORY QUESTIONS)\n",
        "\n",
        "1.What are data structures, and why are they important?\n",
        "\n",
        "Ans.Data structures are ways to organize and store data so it can be used efficiently. They define how data is organized, stored, and manipulated within a program, making it easier for computers to process large, complex sets of information.\n",
        " Data structures are crucial because they increase the efficiency of computer code and make it simpler to understand.\n",
        " They are fundamental to coding and building software applications, and are often among the first lessons taught to beginners of programming.\n",
        "\n",
        " 2.Explain the difference between mutable and immutable data types with examples.\n",
        "\n",
        " Ans.In Python, data types are categorized into mutable and immutable types. Mutable data types are those whose values can be changed after creation, whereas immutable data types are those whose values cannot be altered once they are set.\n",
        "\n",
        "Examples of mutable data types include lists, dictionaries, and sets. Lists, for instance, are ordered collections of elements that can be modified by adding, removing, or changing elements. For example, a list can be updated using methods like append, clear, extend, insert, pop, remove, reverse, and sort.\n",
        "\n",
        "On the other hand, examples of immutable data types include strings, tuples, and numbers. Strings, for instance, are immutable; any attempt to modify a string results in the creation of a new string object instead of modifying the existing one.\n",
        "\n",
        "3.What are the main differences between lists and tuples in Python?\n",
        "\n",
        "Ans.In Python, lists and tuples are both used to store collections of items, but they have distinct characteristics that differentiate them. Lists are mutable, meaning their contents can be changed after creation, while tuples are immutable, meaning their contents cannot be modified once they are created.\n",
        "\n",
        "4.Describe how dictionaries store data.\n",
        "\n",
        "Ans.In Python, dictionaries store data in key-value pairs, where each key is unique and immutable, and values can be of any data type.\n",
        " When a new dictionary is created, it starts with a certain number of slots, typically 8, and each slot can hold one entry, which is a combination of the hash, key, and value.\n",
        "\n",
        " 5.Why might you use a set instead of a list in Python?\n",
        "\n",
        " Ans.In Python, a set is preferred over a list when you need to perform membership tests or eliminate duplicate values efficiently.\n",
        " Sets are unordered collections of unique elements, which means they do not allow duplicates and are optimized for checking if an item is a member of the set.\n",
        " This makes operations like checking membership faster in sets compared to lists.\n",
        " Additionally, sets are mutable, allowing you to add or remove elements, but the items themselves cannot be changed once added to the set.\n",
        "\n",
        " 6.What is a string in Python, and how is it different from a list?\n",
        "\n",
        " Ans.In Python, a string is a sequence of characters enclosed in either single or double quotes. Strings are immutable, meaning once a string is created, it cannot be changed without creating a new string. This is different from lists, which are mutable and can be changed after creation.\n",
        "\n",
        " 7.How do tuples ensure data integrity in Python?\n",
        "\n",
        " Ans.Tuples ensure data integrity in Python by being immutable, which means once a tuple is created, its elements cannot be changed, added, or removed. This immutability prevents unintended modifications to the data stored within the tuple, ensuring that the data remains consistent and unchanged throughout the program's execution.\n",
        "\n",
        " 8.What is a hash table, and how does it relate to dictionaries in Python?\n",
        "\n",
        " Ans.A hash table is a data structure that allows for efficient storage and retrieval of data using a hash function to map keys to indices in an array. In Python, dictionaries are implemented using hash tables, which provide fast operations for insertion, deletion, and lookup, typically with O(1) time complexity on average\n",
        "\n",
        " 9.Can lists contain different data types in Python?\n",
        "\n",
        " Ans.In Python, lists can contain items of different data types. Each item in the list is separated by a comma and the entire list is enclosed in square brackets []. For example, a list can contain strings, integers, and floating point values, as shown in the example below: elements = ['Hydrogen', 1, 1.007825, 'Helium', 2, 4.00260].\n",
        " Additionally, Boolean values can also be used inside lists.\n",
        "\n",
        " 10.Explain why strings are immutable in Python?\n",
        "\n",
        " Ans.In Python, strings are immutable, which means once a string is created, it cannot be modified directly. Any operation that appears to modify a string actually creates a new string object. This is why attempting to change a character in a string, like t = \"M\", results in a TypeError.\n",
        "\n",
        " 11.What advantages do dictionaries offer over lists for certain tasks?\n",
        "\n",
        " Ans.Dictionaries offer several advantages over lists for certain tasks, primarily due to their key-value structure and the ability to access elements directly by their keys. This allows for efficient and fast retrieval of values based on a specific key, making it particularly useful when dealing with large amounts of data or when the order of elements is not important.\n",
        "\n",
        " 12.Describe a scenario where using a tuple would be preferable over a list.\n",
        "\n",
        " Ans.Using a tuple is preferable over a list in scenarios where data integrity and immutability are crucial. For example, consider a database record where each field contains a specific piece of information that should not change throughout the program's execution. A tuple can represent such a record, ensuring that the data remains constant and cannot be modified, which is beneficial for maintaining data integrity.\n",
        "\n",
        " 13.How do sets handle duplicate values in Python?\n",
        "\n",
        " Ans.In Python, sets do not allow duplicate values. When you try to add a duplicate value to a set, it simply ignores the duplicate and does not add it to the set.\n",
        " This feature is by design, as sets are used to store unique elements. For example, if you create a set from a list containing duplicate items, the set will only store the unique values from the list.\n",
        "\n",
        " 14.How does the “in” keyword work differently for lists and dictionaries?\n",
        "\n",
        " Ans.In Python, the in keyword works differently for lists and dictionaries based on their inherent structures and operations.\n",
        "\n",
        "For lists, the in keyword performs a search operation, which means it sequentially checks each element until it finds a match or reaches the end of the list. This results in a time complexity of O(n) in the worst case, where n is the number of elements in the list.\n",
        "\n",
        "For dictionaries, the in keyword uses a hashtable, which allows it to perform lookups in constant time, O(1), regardless of the number of items in the dictionary.\n",
        " This efficiency is due to the way dictionaries are implemented, enabling fast access to values through their keys.\n",
        "\n",
        " 15.Can you modify the elements of a tuple? Explain why or why not.\n",
        "\n",
        " Ans.In Python, tuples are immutable, meaning their elements cannot be modified once the tuple is created.\n",
        " Attempting to modify any element of a tuple will result in a TypeError.\n",
        "\n",
        " 16.What is a nested dictionary, and give an example of its use case?\n",
        "\n",
        " Ans.A nested dictionary is a dictionary that contains another dictionary (or dictionaries) as its value, allowing for a hierarchical structure to store data more efficiently.\n",
        " For example, a nested dictionary can be used to store information about a family, where each child is a dictionary within the main family dictionary.\n",
        "\n",
        " 17.Describe the time complexity of accessing elements in a dictionary.\n",
        "\n",
        " Ans.Accessing elements in a dictionary in Python has an average time complexity of O(1), meaning the time it takes to access an element does not depend on the number of elements in the dictionary. This is because dictionaries use hashing to quickly locate keys.\n",
        "\n",
        "Iterating over all elements in a dictionary, however, has a time complexity of O(N), where N is the number of elements in the dictionary, as it requires visiting each element.\n",
        "\n",
        "The time complexity of O(1) for accessing elements is based on the assumption that the hash function used is robust enough to minimize collisions.\n",
        "\n",
        "18.In what situations are lists preferred over dictionaries?\n",
        "\n",
        "Ans.Lists are preferred over dictionaries in situations where the order of elements is important or when elements need to be accessed by their positions. Lists are better suited for sequential access and storage efficiency, making them ideal for scenarios where maintaining the order of data is crucial.\n",
        "\n",
        "19.Why are dictionaries considered unordered, and how does that affect data retrieval?\n",
        "\n",
        "Ans.Dictionaries are considered unordered because they do not maintain a specific order of the items based on when they were added, which is different from lists or tuples where items are stored in the order they were inserted.\n",
        " This unordered nature is primarily due to the underlying data structure of dictionaries, which is a hash table, designed for fast key-based access rather than maintaining a sequence.\n",
        "\n",
        " 20.Explain the difference between a list and a dictionary in terms of data retrieval.\n",
        "\n",
        " Ans.In Python, a list is an ordered collection of items that can be accessed using index values, making it faster for index-based access. Retrieving an element by index in a list takes O(1) time complexity.\n",
        " On the other hand, a dictionary is a hashed structure of key-value pairs, where data retrieval is based on keys rather than index positions.\n",
        " Dictionary lookups require computing a hash, which also has an average time complexity of O(1).\n",
        " However, dictionaries require more memory as they store keys along with values, unlike lists."
      ],
      "metadata": {
        "id": "8pWDtNo12fOA"
      }
    },
    {
      "cell_type": "markdown",
      "source": [
        "DATA STRUCTURE (PRACTICAL QUESTIONS)"
      ],
      "metadata": {
        "id": "lUnbn13p9NOq"
      }
    },
    {
      "cell_type": "markdown",
      "source": [
        "1.Write a code to create a string with your name and print it."
      ],
      "metadata": {
        "id": "pTSKSdW89Wc7"
      }
    },
    {
      "cell_type": "code",
      "source": [
        "name = \"Alvin Alexander\"\n",
        "print(f\"Your name: {name}\")"
      ],
      "metadata": {
        "id": "ObM0RfE59dLR",
        "colab": {
          "base_uri": "https://localhost:8080/"
        },
        "outputId": "aae5545f-4bd0-46aa-e5f6-ffce541de3b5"
      },
      "execution_count": 1,
      "outputs": [
        {
          "output_type": "stream",
          "name": "stdout",
          "text": [
            "Your name: Alvin Alexander\n"
          ]
        }
      ]
    },
    {
      "cell_type": "markdown",
      "source": [
        "2.Write a code to find the length of the string \"Hello World\"."
      ],
      "metadata": {
        "id": "SDZ8UsUN9d3m"
      }
    },
    {
      "cell_type": "code",
      "source": [
        "string = \"hello world\"\n",
        "length = len(string)\n",
        "print(length)"
      ],
      "metadata": {
        "colab": {
          "base_uri": "https://localhost:8080/"
        },
        "id": "lZpMhXJKBYnK",
        "outputId": "1dc946e8-0ff2-4762-c1ec-bade6855f005"
      },
      "execution_count": 3,
      "outputs": [
        {
          "output_type": "stream",
          "name": "stdout",
          "text": [
            "11\n"
          ]
        }
      ]
    },
    {
      "cell_type": "markdown",
      "source": [
        "3.Write a code to slice the first 3 characters from the string \"Python Programming\"."
      ],
      "metadata": {
        "id": "LMseYr1n9nGf"
      }
    },
    {
      "cell_type": "code",
      "source": [
        "string = \"Python programming\"\n",
        "sliced_string = string[0:3]\n",
        "print(sliced_string)"
      ],
      "metadata": {
        "id": "0MezZAM-9szc",
        "colab": {
          "base_uri": "https://localhost:8080/"
        },
        "outputId": "05231900-b884-4ebd-bda8-15dc8e576b17"
      },
      "execution_count": 4,
      "outputs": [
        {
          "output_type": "stream",
          "name": "stdout",
          "text": [
            "Pyt\n"
          ]
        }
      ]
    },
    {
      "cell_type": "markdown",
      "source": [
        "4.Write a code to convert the string \"hello\" to uppercase."
      ],
      "metadata": {
        "id": "97-G4NrD9tPN"
      }
    },
    {
      "cell_type": "code",
      "source": [
        "string = \"Hello\"\n",
        "uppercase_string = string.upper()\n",
        "print(uppercase_string)"
      ],
      "metadata": {
        "id": "4K3edo089yZI",
        "colab": {
          "base_uri": "https://localhost:8080/"
        },
        "outputId": "fd16e298-7770-4ae7-ab2a-5bf544f44e37"
      },
      "execution_count": 5,
      "outputs": [
        {
          "output_type": "stream",
          "name": "stdout",
          "text": [
            "HELLO\n"
          ]
        }
      ]
    },
    {
      "cell_type": "markdown",
      "source": [
        "5.Write a code to replace the word \"apple\" with \"orange\" in the string \"I like apple\"."
      ],
      "metadata": {
        "id": "nC-OWcgH9zgW"
      }
    },
    {
      "cell_type": "code",
      "source": [
        "string = \"I like apple\"\n",
        "new_string = string.replace(\"apple\", \"orange\")\n",
        "print(new_string)"
      ],
      "metadata": {
        "id": "pj7BzsNw-C9t",
        "colab": {
          "base_uri": "https://localhost:8080/"
        },
        "outputId": "4ce23e65-b2e5-4465-b7a3-1134f88a8227"
      },
      "execution_count": 6,
      "outputs": [
        {
          "output_type": "stream",
          "name": "stdout",
          "text": [
            "I like orange\n"
          ]
        }
      ]
    },
    {
      "cell_type": "markdown",
      "source": [
        "6.Write a code to create a list with numbers 1 to 5 and print it.\n"
      ],
      "metadata": {
        "id": "2Qk_b9VU-DbX"
      }
    },
    {
      "cell_type": "code",
      "source": [
        "numbers_list_1 = list(range(1, 6))\n",
        "print(numbers_list_1)\n"
      ],
      "metadata": {
        "id": "LKf-Ceg8-Jtu",
        "colab": {
          "base_uri": "https://localhost:8080/"
        },
        "outputId": "ba306c4e-3d5f-4b05-a273-cc5c28fd705d"
      },
      "execution_count": 7,
      "outputs": [
        {
          "output_type": "stream",
          "name": "stdout",
          "text": [
            "[1, 2, 3, 4, 5]\n"
          ]
        }
      ]
    },
    {
      "cell_type": "markdown",
      "source": [
        "7.Write a code to append the number 10 to the list [1, 2, 3, 4]."
      ],
      "metadata": {
        "id": "sNTdmG-q-LcN"
      }
    },
    {
      "cell_type": "code",
      "source": [
        "my_list = [1, 2, 3, 4]\n",
        "my_list.append(10)\n",
        "print(my_list)\n"
      ],
      "metadata": {
        "id": "NMc3PVbz-QPq",
        "colab": {
          "base_uri": "https://localhost:8080/"
        },
        "outputId": "0f236480-f4ec-4007-99fe-3c62c1f5b935"
      },
      "execution_count": 8,
      "outputs": [
        {
          "output_type": "stream",
          "name": "stdout",
          "text": [
            "[1, 2, 3, 4, 10]\n"
          ]
        }
      ]
    },
    {
      "cell_type": "markdown",
      "source": [
        "8.Write a code to remove the number 3 from the list [1, 2, 3, 4, 5]."
      ],
      "metadata": {
        "id": "ifuJXUgx-RB9"
      }
    },
    {
      "cell_type": "code",
      "source": [
        "my_list = [1, 2, 3, 4, 5]\n",
        "my_list.remove(3)\n",
        "print(my_list)"
      ],
      "metadata": {
        "colab": {
          "base_uri": "https://localhost:8080/"
        },
        "id": "akHx0dkfEF6P",
        "outputId": "79a36495-147e-4048-ed3a-a780038d7a46"
      },
      "execution_count": 10,
      "outputs": [
        {
          "output_type": "stream",
          "name": "stdout",
          "text": [
            "[1, 2, 4, 5]\n"
          ]
        }
      ]
    },
    {
      "cell_type": "markdown",
      "source": [
        "9.Write a code to access the second element in the list ['a', 'b', 'c', 'd']."
      ],
      "metadata": {
        "id": "AJPMqxPf-W3p"
      }
    },
    {
      "cell_type": "code",
      "source": [
        "my_list = ['a', 'b', 'c', 'd']\n",
        "second_element = my_list[1]\n",
        "print(second_element)"
      ],
      "metadata": {
        "id": "b5xOhmyx-ePj",
        "colab": {
          "base_uri": "https://localhost:8080/"
        },
        "outputId": "404a42c3-3efb-4915-aa7f-b54fb0e5d2f4"
      },
      "execution_count": 11,
      "outputs": [
        {
          "output_type": "stream",
          "name": "stdout",
          "text": [
            "b\n"
          ]
        }
      ]
    },
    {
      "cell_type": "markdown",
      "source": [
        "10.Write a code to reverse the list [10, 20, 30, 40, 50]."
      ],
      "metadata": {
        "id": "-1oFK_tu-slv"
      }
    },
    {
      "cell_type": "code",
      "source": [
        "my_list = [10, 20, 30, 40, 50]\n",
        "my_list.reverse()\n",
        "print(my_list)"
      ],
      "metadata": {
        "colab": {
          "base_uri": "https://localhost:8080/"
        },
        "id": "TvR2c6lH-xuv",
        "outputId": "3b2dc112-0cc3-4aa2-d151-468b8a76d1f1"
      },
      "execution_count": 12,
      "outputs": [
        {
          "output_type": "stream",
          "name": "stdout",
          "text": [
            "[50, 40, 30, 20, 10]\n"
          ]
        }
      ]
    },
    {
      "cell_type": "markdown",
      "source": [
        "11.Write a code to create a tuple with the elements 100, 200, 300 and print it."
      ],
      "metadata": {
        "id": "BSJzT920-yPG"
      }
    },
    {
      "cell_type": "code",
      "source": [
        "my_tuple = (100, 200, 300)\n",
        "print(my_tuple)"
      ],
      "metadata": {
        "colab": {
          "base_uri": "https://localhost:8080/"
        },
        "id": "sgjkWed_-5VJ",
        "outputId": "d5f0d770-c83b-4a73-8dd1-c39685f957c4"
      },
      "execution_count": 13,
      "outputs": [
        {
          "output_type": "stream",
          "name": "stdout",
          "text": [
            "(100, 200, 300)\n"
          ]
        }
      ]
    },
    {
      "cell_type": "markdown",
      "source": [
        "12.Write a code to access the second-to-last element of the tuple ('red', 'green', 'blue', 'yellow')."
      ],
      "metadata": {
        "id": "8uFY_8mO-5zE"
      }
    },
    {
      "cell_type": "code",
      "source": [
        "my_tuple = ('red', 'green', 'blue', 'yellow')\n",
        "second_to_last = my_tuple[-2]\n",
        "print(second_to_last)\n"
      ],
      "metadata": {
        "colab": {
          "base_uri": "https://localhost:8080/"
        },
        "id": "8UGR17wr--vc",
        "outputId": "0b4c25f2-fdd2-4b7d-8e25-9c988d86c23e"
      },
      "execution_count": 14,
      "outputs": [
        {
          "output_type": "stream",
          "name": "stdout",
          "text": [
            "blue\n"
          ]
        }
      ]
    },
    {
      "cell_type": "markdown",
      "source": [
        "13.Write a code to find the minimum number in the tuple (10, 20, 5, 15)."
      ],
      "metadata": {
        "id": "6Gvn6_b2-_v0"
      }
    },
    {
      "cell_type": "code",
      "source": [
        "my_tuple = (10, 20, 5, 15)\n",
        "min_value = min(my_tuple)\n",
        "print(min_value)"
      ],
      "metadata": {
        "colab": {
          "base_uri": "https://localhost:8080/"
        },
        "id": "J6HponhM_EWf",
        "outputId": "2f4a5075-d87e-45e0-8b08-ead790c03d3d"
      },
      "execution_count": 15,
      "outputs": [
        {
          "output_type": "stream",
          "name": "stdout",
          "text": [
            "5\n"
          ]
        }
      ]
    },
    {
      "cell_type": "markdown",
      "source": [
        "14.Write a code to find the index of the element \"cat\" in the tuple ('dog', 'cat', 'rabbit')."
      ],
      "metadata": {
        "id": "uB2G9Lin_E0d"
      }
    },
    {
      "cell_type": "code",
      "source": [
        "my_tuple = ('dog', 'cat', 'rabbit')\n",
        "index_of_cat = my_tuple.index('cat')\n",
        "print(index_of_cat)"
      ],
      "metadata": {
        "colab": {
          "base_uri": "https://localhost:8080/"
        },
        "id": "DU1Oz-uz_KSy",
        "outputId": "8f01163e-eba6-4b96-cb7c-d40e9615e83f"
      },
      "execution_count": 16,
      "outputs": [
        {
          "output_type": "stream",
          "name": "stdout",
          "text": [
            "1\n"
          ]
        }
      ]
    },
    {
      "cell_type": "markdown",
      "source": [
        "15.Write a code to create a tuple containing three different fruits and check if \"kiwi\" is in it."
      ],
      "metadata": {
        "id": "LpyJP48A_Kun"
      }
    },
    {
      "cell_type": "code",
      "source": [
        "fruits = ('apple', 'banana', 'orange')\n",
        "if 'kiwi' in fruits:\n",
        "    print(\"Kiwi is in the tuple.\")\n",
        "else:\n",
        "    print(\"Kiwi is not in the tuple.\")"
      ],
      "metadata": {
        "colab": {
          "base_uri": "https://localhost:8080/"
        },
        "id": "NVOx3lQQ_Q_X",
        "outputId": "bcf4d5dc-bcae-4de5-9f65-95e56adf915a"
      },
      "execution_count": 18,
      "outputs": [
        {
          "output_type": "stream",
          "name": "stdout",
          "text": [
            "Kiwi is not in the tuple.\n"
          ]
        }
      ]
    },
    {
      "cell_type": "markdown",
      "source": [
        "16.Write a code to create a set with the elements 'a', 'b', 'c' and print it."
      ],
      "metadata": {
        "id": "yo2xJPca_Rwh"
      }
    },
    {
      "cell_type": "code",
      "source": [
        "my_set = {'a', 'b', 'c'}\n",
        "print(my_set)"
      ],
      "metadata": {
        "colab": {
          "base_uri": "https://localhost:8080/"
        },
        "id": "qJ3OBROZ_W8q",
        "outputId": "aa7d02cc-3e40-4e76-a591-4c600eb3efcb"
      },
      "execution_count": 19,
      "outputs": [
        {
          "output_type": "stream",
          "name": "stdout",
          "text": [
            "{'b', 'a', 'c'}\n"
          ]
        }
      ]
    },
    {
      "cell_type": "markdown",
      "source": [
        "17.Write a code to clear all elements from the set {1, 2, 3, 4, 5}."
      ],
      "metadata": {
        "id": "bf44ORNb_XoS"
      }
    },
    {
      "cell_type": "code",
      "source": [
        "my_set = {1, 2, 3, 4, 5}\n",
        "my_set.clear()\n",
        "print(my_set)"
      ],
      "metadata": {
        "colab": {
          "base_uri": "https://localhost:8080/"
        },
        "id": "Ym3-_3vD_cht",
        "outputId": "5916a88b-a9c8-4a1a-a3ad-7e29e7d2d18b"
      },
      "execution_count": 20,
      "outputs": [
        {
          "output_type": "stream",
          "name": "stdout",
          "text": [
            "set()\n"
          ]
        }
      ]
    },
    {
      "cell_type": "markdown",
      "source": [
        "18.Write a code to remove the element 4 from the set {1, 2, 3, 4}."
      ],
      "metadata": {
        "id": "G-WdDnNk_d3X"
      }
    },
    {
      "cell_type": "code",
      "source": [
        "my_set = {1, 2, 3, 4}\n",
        "my_set.remove(4)\n",
        "print(my_set)"
      ],
      "metadata": {
        "colab": {
          "base_uri": "https://localhost:8080/"
        },
        "id": "dyXF8z31_hwz",
        "outputId": "c8ca5171-9be5-4b1a-f0a5-b90bbc05223f"
      },
      "execution_count": 21,
      "outputs": [
        {
          "output_type": "stream",
          "name": "stdout",
          "text": [
            "{1, 2, 3}\n"
          ]
        }
      ]
    },
    {
      "cell_type": "markdown",
      "source": [
        "19.Write a code to find the union of two sets {1, 2, 3} and {3, 4, 5}."
      ],
      "metadata": {
        "id": "jnrvZ_GH_iOd"
      }
    },
    {
      "cell_type": "code",
      "source": [
        "set1 = {1, 2, 3}\n",
        "set2 = {3, 4, 5}\n",
        "union_set = set1.union(set2)\n",
        "print(union_set)"
      ],
      "metadata": {
        "colab": {
          "base_uri": "https://localhost:8080/"
        },
        "id": "cIYsoU6e_ne4",
        "outputId": "cc2f7757-e962-4268-ed61-25e85138f68d"
      },
      "execution_count": 22,
      "outputs": [
        {
          "output_type": "stream",
          "name": "stdout",
          "text": [
            "{1, 2, 3, 4, 5}\n"
          ]
        }
      ]
    },
    {
      "cell_type": "markdown",
      "source": [
        "20.Write a code to find the intersection of two sets {1, 2, 3} and {2, 3, 4}."
      ],
      "metadata": {
        "id": "dBCqLWxC_n7S"
      }
    },
    {
      "cell_type": "code",
      "source": [
        "set1 = {1, 2, 3}\n",
        "set2 = {2, 3, 4}\n",
        "intersection_set = set1.intersection(set2)\n",
        "print(intersection_set)"
      ],
      "metadata": {
        "colab": {
          "base_uri": "https://localhost:8080/"
        },
        "id": "x8ubkhzc_rrs",
        "outputId": "83e14784-7a5d-4600-ccb9-dad10f92c40a"
      },
      "execution_count": 23,
      "outputs": [
        {
          "output_type": "stream",
          "name": "stdout",
          "text": [
            "{2, 3}\n"
          ]
        }
      ]
    },
    {
      "cell_type": "markdown",
      "source": [
        "21.Write a code to create a dictionary with the keys \"name\", \"age\", and \"city\", and print it."
      ],
      "metadata": {
        "id": "3yil9MOD_sGz"
      }
    },
    {
      "cell_type": "code",
      "source": [
        "person = {\n",
        "    'name': 'Alice',\n",
        "    'age': 30,\n",
        "    'city': 'New York'\n",
        "}\n",
        "print(person)"
      ],
      "metadata": {
        "colab": {
          "base_uri": "https://localhost:8080/"
        },
        "id": "PQ4AInMv_wjb",
        "outputId": "40772ba9-8efe-4fea-e78c-f6a9d4103e6b"
      },
      "execution_count": 24,
      "outputs": [
        {
          "output_type": "stream",
          "name": "stdout",
          "text": [
            "{'name': 'Alice', 'age': 30, 'city': 'New York'}\n"
          ]
        }
      ]
    },
    {
      "cell_type": "markdown",
      "source": [
        "22.Write a code to add a new key-value pair \"country\": \"USA\" to the dictionary {'name': 'John', 'age': 25}."
      ],
      "metadata": {
        "id": "Oo-YprbE_yT7"
      }
    },
    {
      "cell_type": "code",
      "source": [
        "person = {'name': 'John', 'age': 25}\n",
        "person['country'] = 'USA'\n",
        "print(person)"
      ],
      "metadata": {
        "colab": {
          "base_uri": "https://localhost:8080/"
        },
        "id": "4hB7NEB__2cx",
        "outputId": "ac90edfd-9994-4c5d-e56a-e353ccaa97a8"
      },
      "execution_count": 25,
      "outputs": [
        {
          "output_type": "stream",
          "name": "stdout",
          "text": [
            "{'name': 'John', 'age': 25, 'country': 'USA'}\n"
          ]
        }
      ]
    },
    {
      "cell_type": "markdown",
      "source": [
        "23.Write a code to access the value associated with the key \"name\" in the dictionary {'name': 'Alice', 'age': 30}."
      ],
      "metadata": {
        "id": "XCjh_-bk_24o"
      }
    },
    {
      "cell_type": "code",
      "source": [
        "person = {\"name\": \"Alice\", \"age\": 30}\n",
        "name_value = person[\"name\"]\n",
        "print(name_value)"
      ],
      "metadata": {
        "colab": {
          "base_uri": "https://localhost:8080/"
        },
        "id": "iLOnFg5I_7QP",
        "outputId": "1c711e8e-a27d-4723-d1c0-3e93c0d588fd"
      },
      "execution_count": 1,
      "outputs": [
        {
          "output_type": "stream",
          "name": "stdout",
          "text": [
            "Alice\n"
          ]
        }
      ]
    },
    {
      "cell_type": "markdown",
      "source": [
        "24.Write a code to remove the key \"age\" from the dictionary {'name': 'Bob', 'age': 22, 'city': 'New York'}."
      ],
      "metadata": {
        "id": "ZOeoQpAY_7pD"
      }
    },
    {
      "cell_type": "code",
      "source": [
        "person = {\"name\": \"Bob\", \"age\": 22, \"city\": \"New York\"}\n",
        "person.pop(\"age\")\n",
        "print(person)"
      ],
      "metadata": {
        "colab": {
          "base_uri": "https://localhost:8080/"
        },
        "id": "tkCkg2ZXAAn-",
        "outputId": "e183b004-b69d-46fb-d904-dfa34d7512cb"
      },
      "execution_count": 2,
      "outputs": [
        {
          "output_type": "stream",
          "name": "stdout",
          "text": [
            "{'name': 'Bob', 'city': 'New York'}\n"
          ]
        }
      ]
    },
    {
      "cell_type": "markdown",
      "source": [
        "25. Write a code to check if the key \"city\" exists in the dictionary {'name': 'Alice', 'city': 'Paris'}."
      ],
      "metadata": {
        "id": "QwBDUodVABEy"
      }
    },
    {
      "cell_type": "code",
      "source": [
        "AliceCityParis = {\"name\": \"Alice\", \"city\": \"Paris\"}\n",
        "if \"city\" in AliceCityParis:\n",
        "    print(\"Key 'city' exists in the dictionary.\")\n",
        "else:\n",
        "    print(\"Key 'city' does not exist in the dictionary.\")"
      ],
      "metadata": {
        "colab": {
          "base_uri": "https://localhost:8080/"
        },
        "id": "Zy4L-FE-AF9c",
        "outputId": "36f4d332-e92e-4b13-b561-8d6dfe5a94f0"
      },
      "execution_count": 3,
      "outputs": [
        {
          "output_type": "stream",
          "name": "stdout",
          "text": [
            "Key 'city' exists in the dictionary.\n"
          ]
        }
      ]
    },
    {
      "cell_type": "markdown",
      "source": [
        "26.Write a code to create a list, a tuple, and a dictionary, and print them all."
      ],
      "metadata": {
        "id": "3S2rsdCDAGfz"
      }
    },
    {
      "cell_type": "code",
      "source": [
        "\n",
        "my_list = [1, 2, 3, 4, 5]\n",
        "my_tuple = (\"apple\", \"banana\", \"cherry\")\n",
        "my_dict = {\"name\": \"Alice\", \"age\": 30, \"city\": \"Paris\"}\n",
        "print(\"List:\", my_list)\n",
        "print(\"Tuple:\", my_tuple)\n",
        "print(\"Dictionary:\",my_dict)"
      ],
      "metadata": {
        "colab": {
          "base_uri": "https://localhost:8080/"
        },
        "id": "y5s_5SFu21-P",
        "outputId": "31438760-21db-4f91-f8cc-30376cfb4e90"
      },
      "execution_count": 7,
      "outputs": [
        {
          "output_type": "stream",
          "name": "stdout",
          "text": [
            "List: [1, 2, 3, 4, 5]\n",
            "Tuple: ('apple', 'banana', 'cherry')\n",
            "Dictionary: {'name': 'Alice', 'age': 30, 'city': 'Paris'}\n"
          ]
        }
      ]
    },
    {
      "cell_type": "markdown",
      "source": [
        "28.Write a code to create a list with strings and print the element at the third index."
      ],
      "metadata": {
        "id": "k5a37FSp4Zxe"
      }
    },
    {
      "cell_type": "code",
      "source": [
        "fruits = [\"apple\", \"banana\", \"cherry\", \"date\", \"elderberry\"]\n",
        "print(\"Element at index 3:\",fruits[3])"
      ],
      "metadata": {
        "colab": {
          "base_uri": "https://localhost:8080/"
        },
        "id": "law_z0HPAZPY",
        "outputId": "681a8274-4b01-41db-a4a3-4317eaeb0ca7"
      },
      "execution_count": 10,
      "outputs": [
        {
          "output_type": "stream",
          "name": "stdout",
          "text": [
            "Element at index 3: date\n"
          ]
        }
      ]
    },
    {
      "cell_type": "markdown",
      "source": [
        "29.Write a code to combine two dictionaries into one and print the result."
      ],
      "metadata": {
        "id": "1ONdjhEgAcD5"
      }
    },
    {
      "cell_type": "code",
      "source": [
        "dict1 = {\"name\": \"Alice\", \"age\": 30}\n",
        "dict2 = {\"city\": \"Paris\", \"country\": \"France\"}\n",
        "combined_dict = {**dict1, **dict2}\n",
        "print(\"Combined dictionary:\",combined_dict)"
      ],
      "metadata": {
        "colab": {
          "base_uri": "https://localhost:8080/"
        },
        "id": "lrzt5U2ZAj6h",
        "outputId": "30a4becc-8ac1-4aa9-9790-13c7706d8048"
      },
      "execution_count": 11,
      "outputs": [
        {
          "output_type": "stream",
          "name": "stdout",
          "text": [
            "Combined dictionary: {'name': 'Alice', 'age': 30, 'city': 'Paris', 'country': 'France'}\n"
          ]
        }
      ]
    },
    {
      "cell_type": "markdown",
      "source": [
        "30.Write a code to convert a list of strings into a set."
      ],
      "metadata": {
        "id": "1MoFpkpFAkX6"
      }
    },
    {
      "cell_type": "code",
      "source": [
        "string_list = [\"apple\", \"banana\", \"cherry\", \"apple\", \"banana\"]\n",
        "string_set = set(string_list)\n",
        "print(\"Set:\",string_set)"
      ],
      "metadata": {
        "colab": {
          "base_uri": "https://localhost:8080/"
        },
        "id": "z87ItYUUAoSW",
        "outputId": "30f8fdd2-e8a0-440f-815a-b7d95205abb7"
      },
      "execution_count": 12,
      "outputs": [
        {
          "output_type": "stream",
          "name": "stdout",
          "text": [
            "Set: {'cherry', 'banana', 'apple'}\n"
          ]
        }
      ]
    }
  ]
}